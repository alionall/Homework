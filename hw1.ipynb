{
  "nbformat": 4,
  "nbformat_minor": 0,
  "metadata": {
    "colab": {
      "name": "hw1.ipynb",
      "provenance": [],
      "authorship_tag": "ABX9TyMc+OA8qtSw6swvybXJ5WTZ",
      "include_colab_link": true
    },
    "kernelspec": {
      "display_name": "Python 3",
      "name": "python3"
    }
  },
  "cells": [
    {
      "cell_type": "markdown",
      "metadata": {
        "id": "view-in-github",
        "colab_type": "text"
      },
      "source": [
        "<a href=\"https://colab.research.google.com/github/alionall/Homework/blob/main/hw1.ipynb\" target=\"_parent\"><img src=\"https://colab.research.google.com/assets/colab-badge.svg\" alt=\"Open In Colab\"/></a>"
      ]
    },
    {
      "cell_type": "code",
      "metadata": {
        "colab": {
          "base_uri": "https://localhost:8080/"
        },
        "id": "docQ5wKTgl4r",
        "outputId": "fe99fd93-c053-49a2-fd2f-e7e591fd4524"
      },
      "source": [
        "# Are you legal for driving a car?\r\n",
        "\r\n",
        "print (\"Are you legal for driving? Lets found out!\")\r\n",
        "a = 0\r\n",
        "\r\n",
        "while a<3:    \r\n",
        "    age = int(input((print(\"Please enter your age: \"))))\r\n",
        "    if int(age) >= 18:\r\n",
        "        license_control = input(\"Do you have a driver license?\")\r\n",
        "        if license_control == \"Yes\" or license_control == \"yes\":\r\n",
        "            print (\"You are allowed to drive!\")\r\n",
        "            break\r\n",
        "    elif age < 18 and age >= 16:\r\n",
        "        parent_control = input(\"Is your parent with you?\")\r\n",
        "        if parent_control == \"Yes\" or parent_control ==\"yes\":\r\n",
        "            print (\"You are allowed do drive!\")\r\n",
        "            break\r\n",
        "        elif parent_control == \"No\" or parent_control ==\"no\":\r\n",
        "            print (\"You are not allowed to drive!\")\r\n",
        "            break\r\n",
        "    elif age < 16 and age >= 0:\r\n",
        "        print (\"You are not allowed to drive\")\r\n",
        "        break\r\n",
        "    else:\r\n",
        "        if a == 2:\r\n",
        "          print (\"You entered wrong information multiple times. Program is closing.\")\r\n",
        "        else:\r\n",
        "          print (\"Please enter your age correctly!\")\r\n",
        "        a += 1\r\n",
        "       "
      ],
      "execution_count": 153,
      "outputs": [
        {
          "output_type": "stream",
          "text": [
            "Are you legal for driving? Lets found out!\n",
            "Please enter your age: \n",
            "-1\n",
            "Please enter your age correctly!\n",
            "Please enter your age: \n",
            "-1\n",
            "Please enter your age correctly!\n",
            "Please enter your age: \n",
            "-1\n",
            "You entered wrong information multiple times. Program is closing.\n"
          ],
          "name": "stdout"
        }
      ]
    },
    {
      "cell_type": "code",
      "metadata": {
        "colab": {
          "base_uri": "https://localhost:8080/"
        },
        "id": "jiFmHeL5xTuv",
        "outputId": "79e854ec-d782-41e1-93b5-614ef78b6f5f"
      },
      "source": [
        "# Coefficient Founder\r\n",
        "\r\n",
        "def katsayi_bulucu(sayi1):\r\n",
        "  list = []\r\n",
        "  for i in range(1,20000):\r\n",
        "    if i % sayi1 == 0:\r\n",
        "      list.append(i)\r\n",
        "  return list\r\n",
        "\r\n",
        "sayi = int(input(print(\"Please enter the number that: \")))\r\n",
        "katsayi_bulucu(sayi)"
      ],
      "execution_count": null,
      "outputs": [
        {
          "output_type": "stream",
          "text": [
            "Please enter the number that: \n",
            "5\n"
          ],
          "name": "stdout"
        },
        {
          "output_type": "execute_result",
          "data": {
            "text/plain": [
              "[5, 10, 15, 20, 25, 30, 35, 40, 45]"
            ]
          },
          "metadata": {
            "tags": []
          },
          "execution_count": 28
        }
      ]
    },
    {
      "cell_type": "code",
      "metadata": {
        "colab": {
          "base_uri": "https://localhost:8080/"
        },
        "id": "HzgoWl63xUA9",
        "outputId": "ac1194b0-ae37-43bf-f0ca-29bac887c6b4"
      },
      "source": [
        "# Calculator\r\n",
        "def carpim(list):\r\n",
        "  x = 1\r\n",
        "  for i in list:\r\n",
        "    x *= i \r\n",
        "  print(\"Products of:\", list, \"is: \", x)\r\n",
        "\r\n",
        "def toplam(list):\r\n",
        "  x = 0\r\n",
        "  for i in list:\r\n",
        "    x += i \r\n",
        "  print(\"Sums of:\", list, \"is: \", x)\r\n",
        "\r\n",
        "def cikartma(list):\r\n",
        "  x = 0\r\n",
        "  for i in list:\r\n",
        "    x -= i \r\n",
        "  print(list[0],\"minus\",list[0:], \"is: \", x)\r\n",
        "\r\n",
        "def bolme(list):\r\n",
        "  x = list[0]**2\r\n",
        "  for i in list:\r\n",
        "      x = x/i\r\n",
        "  print(\"Division of:\", list[0], \"To the numbers: \", list[1:], \"Equals to: \", x)\r\n",
        "\r\n",
        "decision = int(input(print(\"Welcome to the calculator!\\nPress '1' for multiplication, '2' for sum, '3' for substracting and '4' for division\")))\r\n",
        "\r\n",
        "#çarpim\r\n",
        "if decision == 1: \r\n",
        "  list = []\r\n",
        "  number_1 = int(input(print(\"Please enter the first number:\" )))  \r\n",
        "  number_2 = int(input(print(\"Please enter the first number:\" )))  \r\n",
        "  list.append(number_1)\r\n",
        "  list.append(number_2)\r\n",
        "  question = input(print(\"Do you want to add another number to calculation? /n Enter 'Yes' or 'No'\"))\r\n",
        "  while question == \"yes\" or question == \"Yes\":\r\n",
        "     number = input(print(\"Add as much number as you like. Press 'e' if you want to stop adding\"))\r\n",
        "     if number == \"e\":\r\n",
        "       break\r\n",
        "     else:\r\n",
        "       list.append(int(number))\r\n",
        "  carpim(list)\r\n",
        "\r\n",
        "#toplam\r\n",
        "elif decision == 2: \r\n",
        "  list = []\r\n",
        "  number_1 = int(input(print(\"Please enter the first number:\" )))  \r\n",
        "  number_2 = int(input(print(\"Please enter the first number:\" )))  \r\n",
        "  list.append(number_1)\r\n",
        "  list.append(number_2)\r\n",
        "  question = input(print(\"Do you want to add another number to calculation? /n Enter 'Yes' or 'No'\"))\r\n",
        "  while question == \"yes\" or question == \"Yes\":\r\n",
        "     number = input(print(\"Add as much number as you like. Press 'e' if you want to stop adding\"))\r\n",
        "     if number == \"e\":\r\n",
        "       break\r\n",
        "     else:\r\n",
        "       list.append(int(number))\r\n",
        "  \r\n",
        "  toplam(list)\r\n",
        "\r\n",
        "#çikartma\r\n",
        "elif decision == 3: \r\n",
        "  list = []\r\n",
        "  number_1 = int(input(print(\"Please enter the first number:\" )))  \r\n",
        "  number_2 = int(input(print(\"Please enter the first number:\" )))  \r\n",
        "  list.append(number_1)\r\n",
        "  list.append(number_2)\r\n",
        "  question = input(print(\"Do you want to add another number to calculation? /n Enter 'Yes' or 'No'\"))\r\n",
        "  while question == \"yes\" or question == \"Yes\":\r\n",
        "     number = input(print(\"Add as much number as you like. Press 'e' if you want to stop adding\"))\r\n",
        "     if number == \"e\":\r\n",
        "       break\r\n",
        "     else:\r\n",
        "       list.append(int(number))\r\n",
        "\r\n",
        "  cikartma(list)\r\n",
        "\r\n",
        "#bolme\r\n",
        "elif decision == 4: \r\n",
        "  list = []\r\n",
        "  number_1 = int(input(print(\"Please enter the first number:\" )))  \r\n",
        "  number_2 = int(input(print(\"Please enter the first number:\" )))  \r\n",
        "  list.append(number_1)\r\n",
        "  list.append(number_2)\r\n",
        "  question = input(print(\"Do you want to add another number to calculation? /n Enter 'Yes' or 'No'\"))\r\n",
        "  while question == \"yes\" or question == \"Yes\":\r\n",
        "     number = input(print(\"Add as much number as you like. Press 'e' if you want to stop adding\"))\r\n",
        "     if number == \"e\":\r\n",
        "       break\r\n",
        "     else:\r\n",
        "       list.append(int(number))\r\n",
        "\r\n",
        "  bolme(list)"
      ],
      "execution_count": 151,
      "outputs": [
        {
          "output_type": "stream",
          "text": [
            "Welcome to the calculator!\n",
            "Press '1' for multiplication, '2' for sum, '3' for substracting and '4' for division\n",
            "4\n",
            "Please enter the first number:\n",
            "10\n",
            "Please enter the first number:\n",
            "5\n",
            "Do you want to add another number to calculation? /n Enter 'Yes' or 'No'\n",
            "yes\n",
            "Add as much number as you like. Press 'e' if you want to stop adding\n",
            "5\n",
            "Add as much number as you like. Press 'e' if you want to stop adding\n",
            "2\n",
            "Add as much number as you like. Press 'e' if you want to stop adding\n",
            "e\n",
            "Division of: 10 To:  [5, 5, 2] Equals to:  0.2\n"
          ],
          "name": "stdout"
        }
      ]
    },
    {
      "cell_type": "code",
      "metadata": {
        "colab": {
          "base_uri": "https://localhost:8080/"
        },
        "id": "1zWkwehTxUDh",
        "outputId": "78790e31-4670-4d6d-f267-e9a6d239f13f"
      },
      "source": [
        "# Rehber\r\n",
        "control = input(print (\"Welcome,\\nDo you want to add someone to your contacts?\\n Enter 'Yes' or 'No'\"))\r\n",
        "namelist = []\r\n",
        "phonelist = []\r\n",
        "\r\n",
        "if control == \"Yes\" or control ==\"yes\":\r\n",
        "  control = True \r\n",
        "  while control == True:\r\n",
        "    name= input(print(\"Please enter name and the last name of the contact\"))\r\n",
        "    namelist.append(name)\r\n",
        "    phone_no = input(print(\"Please enter the phone number of the contact\"))\r\n",
        "    phonelist.append(phone_no)\r\n",
        "\r\n",
        "    control2 = input(print(\"Would you like to add someone else? \"))\r\n",
        "    if control2 == \"Yes\" or control2 ==\"yes\":\r\n",
        "        control = True\r\n",
        "    elif control2 == \"No\" or control2 == \"no\":\r\n",
        "        control = False\r\n",
        "\r\n",
        "\r\n",
        "contacts_control= input(print (\"Would you like to see your contacts?\\n Enter 'Yes' or 'No'\"))\r\n",
        "\r\n",
        "if contacts_control == \"Yes\" or contacts_control == \"yes\":\r\n",
        "  for i,j in zip(namelist, phonelist):\r\n",
        "    print (\"Name&Surname: \", i,\", Phone Number: \",  j, \"\\n\")\r\n",
        "\r\n"
      ],
      "execution_count": 129,
      "outputs": [
        {
          "output_type": "stream",
          "text": [
            "Welcome,\n",
            "Do you want to add someone to your contacts?\n",
            " Enter 'Yes' or 'No'\n",
            "Yes\n",
            "Please enter name and the last name of the contact\n",
            "Oguzhan Bogaz\n",
            "Please enter the phone number of the contact\n",
            "87946\n",
            "Would you like to add someone else? \n",
            "Yes\n",
            "Please enter name and the last name of the contact\n",
            "Ali Önal\n",
            "Please enter the phone number of the contact\n",
            "5646\n",
            "Would you like to add someone else? \n",
            "no\n",
            "Would you like to see your contacts?\n",
            " Enter 'Yes' or 'No'\n",
            "Yes\n",
            "Name&Surname:  Oguzhan Bogaz , Phone Number:  87946 \n",
            "\n",
            "Name&Surname:  Ali Önal , Phone Number:  5646 \n",
            "\n"
          ],
          "name": "stdout"
        }
      ]
    }
  ]
}
